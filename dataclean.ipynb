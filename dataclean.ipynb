{
 "cells": [
  {
   "cell_type": "code",
   "execution_count": null,
   "metadata": {},
   "outputs": [],
   "source": [
    "print ('test')"
   ]
  },
  {
   "cell_type": "code",
   "execution_count": null,
   "metadata": {},
   "outputs": [],
   "source": [
    "import numpy as np\n",
    "import pandas as pd\n",
    "import petl as etl\n"
   ]
  },
  {
   "cell_type": "code",
   "execution_count": null,
   "metadata": {},
   "outputs": [],
   "source": [
    "import numpy as np\n",
    "import pandas as pd\n",
    "import petl as etl"
   ]
  },
  {
   "cell_type": "code",
   "execution_count": null,
   "metadata": {},
   "outputs": [],
   "source": [
    "bassetlaw = pd.read_csv('data/2010-2020_Bassetlaw_outlet.csv')\n",
    "bassetlaw['branch_name'] = 'Bassetlaw outlet'\n",
    "bassetlaw = bassetlaw.rename(columns={'sku':'item', 'quantity_purchased' : 'quantity'})\n",
    "bassetlaw = bassetlaw.merge(branch_list, on='branch_name', how='left')\n",
    "#bassetlaw\n",
    "bassetlaw.to_csv('bassetlaw_clean.csv')"
   ]
  },
  {
   "cell_type": "code",
   "execution_count": null,
   "metadata": {},
   "outputs": [],
   "source": [
    "branches_table = etl.fromdataframe(branch_list)\n",
    "branches_in_eastmidlands = etl.select(branches_table, 'region', lambda region : region == 'East Midlands')\n",
    "branches_in_eastmidlands.lookall()"
   ]
  },
  {
   "cell_type": "code",
   "execution_count": null,
   "metadata": {},
   "outputs": [],
   "source": [
    "branches = branches_in_eastmidlands['branch_name']\n",
    "region_data = []\n",
    "for branch in branches : \n",
    "    print(branch)\n",
    "    cleaned_file_name = branch.lower().split(' ')[0] + '_clean.csv'\n",
    "    print(cleaned_file_name, '\\n\\n')\n",
    "    try:\n",
    "        branch_df = pd.read_csv(cleaned_file_name)\n",
    "        region_data.append(branch_df)\n",
    "    except :\n",
    "        pass\n",
    "\n",
    "all_branch_data = pd.concat(region_data)\n",
    "all_branch_data.to_csv('partial_east.csv')"
   ]
  },
  {
   "cell_type": "code",
   "execution_count": null,
   "metadata": {},
   "outputs": [],
   "source": [
    "branches_table2 = etl.fromdataframe(branch_list)\n",
    "branches_in_eastofengland = etl.select(\n",
    "    branches_table2, 'region', lambda region: region == 'East of England')\n",
    "branches_in_eastofengland.lookall()\n"
   ]
  },
  {
   "cell_type": "code",
   "execution_count": null,
   "metadata": {},
   "outputs": [],
   "source": [
    "branches2 = branches_in_eastofengland['branch_name']\n",
    "region_data = []\n",
    "for branch in branches2:\n",
    "    print(branch)\n",
    "    cleaned_file_name = branch.lower().split(' ')[0] + '_clean.csv'\n",
    "    print(cleaned_file_name, '\\n\\n')\n",
    "    try:\n",
    "        branch_df = pd.read_csv(cleaned_file_name)\n",
    "        region_data.append(branch_df)\n",
    "    except:\n",
    "        pass\n",
    "\n",
    "all_branch_data = pd.concat(region_data)\n",
    "all_branch_data.to_csv('eastofengland.csv')\n"
   ]
  },
  {
   "cell_type": "code",
   "execution_count": null,
   "metadata": {},
   "outputs": [],
   "source": [
    "branches_table3 = etl.fromdataframe(branch_list)\n",
    "branches_in_london = etl.select(\n",
    "    branches_table3, 'region', lambda region: region == 'London')\n",
    "branches_in_london.lookall()    \n"
   ]
  },
  {
   "cell_type": "code",
   "execution_count": null,
   "metadata": {},
   "outputs": [],
   "source": [
    "branches3 = branches_in_london['branch_name']\n",
    "region_data = []\n",
    "for branch in branches3:\n",
    "    print(branch)\n",
    "    cleaned_file_name = branch.lower().split(' ')[0] + '_clean.csv'\n",
    "    print(cleaned_file_name, '\\n\\n')\n",
    "    try:\n",
    "        branch_df = pd.read_csv(cleaned_file_name)\n",
    "        region_data.append(branch_df)\n",
    "    except:\n",
    "        pass\n",
    "\n",
    "all_branch_data = pd.concat(region_data)\n",
    "all_branch_data.to_csv('london.csv')\n"
   ]
  },
  {
   "cell_type": "code",
   "execution_count": null,
   "metadata": {},
   "outputs": [],
   "source": [
    "#ceredigion = pd.read_json('data/2010-2020_Ceredigion_store.json')\n",
    "#ceredigion['branch_name'] = 'Ceredigion store'\n",
    "#ceredigion = ceredigion.merge(branch_list, on='branch_name', how='left')\n",
    "#ceredigion = ceredigion.rename(columns={'product': 'item', 'total_quantity_purchased' : 'quantity'})\n",
    "#ceredigion\n"
   ]
  },
  {
   "cell_type": "code",
   "execution_count": null,
   "metadata": {},
   "outputs": [],
   "source": [
    "#frames = [bassetlaw, ceredigion]\n",
    "#master = pd.concat(frames, keys=['bass','cere'])\n",
    "#master"
   ]
  },
  {
   "cell_type": "code",
   "execution_count": null,
   "metadata": {},
   "outputs": [],
   "source": [
    "partial_branch_csv = pd.read_csv('partial_east.csv')\n",
    "partial_branch_csv"
   ]
  },
  {
   "cell_type": "code",
   "execution_count": null,
   "metadata": {},
   "outputs": [],
   "source": [
    "castle = pd.read_csv('data/2010-2020_Castle_Point_outlet.csv')\n",
    "castle['branch_name'] = 'Castle Point outlet'\n",
    "castle = castle.rename(columns={'sku':'item', 'total_quantity' : 'quantity'})\n",
    "castle = castle.merge(branch_list, on='branch_name', how='left')\n",
    "#castle\n",
    "castle.to_csv('castle_clean.csv')\n"
   ]
  },
  {
   "cell_type": "code",
   "execution_count": null,
   "metadata": {},
   "outputs": [],
   "source": [
    "cheshireeast = pd.read_csv('data/2010-2020_Cheshire_East_outlet.csv')\n",
    "cheshireeast['branch_name'] = 'Cheshire East outlet'\n",
    "cheshireeast = cheshireeast.rename(\n",
    "    columns={'product': 'item', 'quantity_purchased': 'quantity'})\n",
    "cheshireeast = cheshireeast.merge(branch_list, on='branch_name', how='left')\n",
    "#cheshireeast\n",
    "cheshireeast.to_csv('cheshire_clean.csv')\n"
   ]
  },
  {
   "cell_type": "code",
   "execution_count": null,
   "metadata": {},
   "outputs": [],
   "source": [
    "eastcambridge = pd.read_csv('data/2010-2020_East_Cambridgeshire_outlet.csv')\n",
    "eastcambridge['branch_name'] = 'East Cambridgeshire outlet'\n",
    "eastcambridge = eastcambridge.rename(\n",
    "    columns={'product': 'item', 'total_quantity': 'quantity'})\n",
    "eastcambridge = eastcambridge.merge(branch_list, on='branch_name', how='left')\n",
    "#eastcambridge\n",
    "eastcambridge.to_csv('cambridge_clean.csv')\n"
   ]
  },
  {
   "cell_type": "code",
   "execution_count": null,
   "metadata": {},
   "outputs": [],
   "source": [
    "eastdevon = pd.read_csv('data/2010-2020_East_Devon_branch.csv')\n",
    "eastdevon['branch_name'] = 'East Devon branch'\n",
    "eastdevon = eastdevon.rename(\n",
    "    columns={'sku': 'item', 'quantity_purchased': 'quantity'})\n",
    "eastdevon = eastdevon.merge(branch_list, on='branch_name', how='left')\n",
    "#eastdevon\n",
    "eastdevon.to_csv('eastdevon_clean.csv')\n"
   ]
  },
  {
   "cell_type": "code",
   "execution_count": null,
   "metadata": {},
   "outputs": [],
   "source": [
    "eastsussex = pd.read_csv('data/2010-2020_East_Sussex_outlet.csv')\n",
    "eastsussex['branch_name'] = 'East Sussex outlet'\n",
    "eastsussex = eastsussex.rename(columns={'amount': 'quantity'})\n",
    "eastsussex= eastsussex.merge(branch_list, on='branch_name', how='left')\n",
    "#eastsussex\n",
    "eastsussex.to_csv('esussex_clean.csv')\n"
   ]
  },
  {
   "cell_type": "code",
   "execution_count": null,
   "metadata": {},
   "outputs": [],
   "source": [
    "flintshire = pd.read_csv('data/2010-2020_Flintshire_branch.csv')\n",
    "flintshire['branch_name'] = 'Flintshire branch'\n",
    "flintshire = flintshire.rename(\n",
    "    columns={'sku': 'item', 'quantity_purchased': 'quantity'})\n",
    "flintshire = flintshire.merge(branch_list, on='branch_name', how='left')\n",
    "#flintshire\n",
    "flintshire.to_csv('flintshire_clean.csv')\n"
   ]
  },
  {
   "cell_type": "code",
   "execution_count": null,
   "metadata": {},
   "outputs": [],
   "source": [
    "forstofdean = pd.read_csv('data/2010-2020_Forest_of_Dean_store.csv')\n",
    "forstofdean['branch_name'] = 'Forest of Dean store'\n",
    "forstofdean = forstofdean.merge(branch_list, on='branch_name', how='left')\n",
    "#forstofdean\n",
    "forstofdean.to_csv('forestofdean_clean.csv')\n"
   ]
  },
  {
   "cell_type": "code",
   "execution_count": null,
   "metadata": {},
   "outputs": [],
   "source": [
    "fylde = pd.read_csv('data/2010-2020_Fylde_outlet.csv')\n",
    "fylde['branch_name'] = 'Fylde outlet'\n",
    "fylde = fylde.rename(columns={'sku': 'item', 'total_quantity_purchased': 'quantity'})\n",
    "fylde = fylde.merge(branch_list, on='branch_name', how='left')\n",
    "#fylde\n",
    "fylde.to_csv('fylde_clean.csv')\n"
   ]
  },
  {
   "cell_type": "code",
   "execution_count": null,
   "metadata": {},
   "outputs": [],
   "source": [
    "lichfield = pd.read_csv('data/2010-2020_Lichfield_outlet.csv')\n",
    "lichfield['branch_name'] = 'Lichfield outlet'\n",
    "lichfield = lichfield.merge(branch_list, on='branch_name', how='left')\n",
    "#lichfield\n",
    "castle.to_csv('castle_clean.csv')\n"
   ]
  },
  {
   "cell_type": "code",
   "execution_count": null,
   "metadata": {},
   "outputs": [],
   "source": [
    "lincoln = pd.read_csv('data/2010-2020_Lincoln_branch.csv')\n",
    "lincoln['branch_name'] = 'Lincoln branch'\n",
    "lincoln = lincoln.merge(branch_list, on='branch_name', how='left')\n",
    "#lincoln\n",
    "lincoln.to_csv('lincoln_clean.csv')\n"
   ]
  },
  {
   "cell_type": "code",
   "execution_count": null,
   "metadata": {},
   "outputs": [],
   "source": [
    "molevalley = pd.read_csv('data/2010-2020_Mole_Valley_store.csv')\n",
    "molevalley['branch_name'] = 'Mole Valley store'\n",
    "molevalley = molevalley.rename(columns={'product': 'item'})\n",
    "molevalley = molevalley.merge(branch_list, on='branch_name', how='left')\n",
    "#molevalley\n",
    "castle.to_csv('castle_clean.csv')\n"
   ]
  },
  {
   "cell_type": "code",
   "execution_count": null,
   "metadata": {},
   "outputs": [],
   "source": [
    "orkney = pd.read_csv('data/2010-2020_Orkney_store.csv')\n",
    "orkney['branch_name'] = 'Orkney store'\n",
    "orkney = orkney.rename(\n",
    "    columns={'sku': 'item', 'total_quantity_purchased': 'quantity'})\n",
    "orkney = orkney.merge(branch_list, on='branch_name', how='left')\n",
    "#orkney\n",
    "castle.to_csv('castle_clean.csv')\n"
   ]
  },
  {
   "cell_type": "code",
   "execution_count": null,
   "metadata": {},
   "outputs": [],
   "source": [
    "staffs = pd.read_csv('data/2010-2020_Staffordshire_store.csv')\n",
    "staffs['branch_name'] = 'Staffordshire store'\n",
    "staffs = orkney.rename(columns={'product': 'item'})\n",
    "#staffs = orkney.merge(branch_list, on='branch_name', how='left')\n",
    "#staffs\n",
    "castle.to_csv('castle_clean.csv')\n"
   ]
  },
  {
   "cell_type": "code",
   "execution_count": null,
   "metadata": {},
   "outputs": [],
   "source": [
    "stoke = pd.read_csv('data/2010-2020_Stoke-on-Trent_store.csv')\n",
    "stoke['branch_name'] = 'Stoke-on-Trent store'\n",
    "stoke = stoke.merge(branch_list, on='branch_name', how='left')\n",
    "#stoke\n",
    "castle.to_csv('castle_clean.csv')\n"
   ]
  },
  {
   "cell_type": "code",
   "execution_count": null,
   "metadata": {},
   "outputs": [],
   "source": [
    "swansea = pd.read_csv('data/2010-2020_Swansea_store.csv')\n",
    "swansea['branch_name'] = 'Swansea store'\n",
    "swansea = swansea.rename(columns={'total_quantity_purchased': 'quantity'})\n",
    "swansea = swansea.merge(branch_list, on='branch_name', how='left')\n",
    "#swansea\n",
    "castle.to_csv('castle_clean.csv')\n"
   ]
  },
  {
   "cell_type": "code",
   "execution_count": null,
   "metadata": {},
   "outputs": [],
   "source": [
    "warwick = pd.read_csv('data/2010-2020_Warwickshire_branch.csv')\n",
    "warwick['branch_name'] = 'Warwickshire branch'\n",
    "warwick = warwick.rename(columns={'quantity_purchased': 'quantity'})\n",
    "warwick = warwick.merge(branch_list, on='branch_name', how='left')\n",
    "#warwick\n",
    "castle.to_csv('castle_clean.csv')\n"
   ]
  },
  {
   "cell_type": "code",
   "execution_count": null,
   "metadata": {},
   "outputs": [],
   "source": [
    "wyre = pd.read_csv('data/2010-2020_Wyre_branch.csv')\n",
    "wyre['branch_name'] = 'Wyre branch'\n",
    "wyre = wyre.merge(branch_list, on='branch_name', how='left')\n",
    "#wyre\n",
    "castle.to_csv('castle_clean.csv')\n"
   ]
  },
  {
   "cell_type": "code",
   "execution_count": null,
   "metadata": {},
   "outputs": [],
   "source": [
    "belfast = pd.read_csv('data/2011-2020_Belfast_branch.csv')\n",
    "belfast['branch_name'] = 'Belfast branch'\n",
    "belfast = belfast.rename(columns={'total_quantity': 'quantity'})\n",
    "belfast = belfast.merge(branch_list, on='branch_name', how='left')\n",
    "#belfast\n",
    "belfast.to_csv('belfast_clean.csv')\n"
   ]
  },
  {
   "cell_type": "code",
   "execution_count": null,
   "metadata": {},
   "outputs": [],
   "source": [
    "bracknell = pd.read_csv('data/2011-2020_Bracknell_Forest_store.csv')\n",
    "bracknell['branch_name'] = 'Bracknell Forest store'\n",
    "bracknell = bracknell.rename(columns={'product':'item', 'total_quantity' : 'quantity'})\n",
    "bracknell = bracknell.merge(branch_list, on='branch_name', how='left')\n",
    "#bracknell\n",
    "castle.to_csv('castle_clean.csv')\n"
   ]
  },
  {
   "cell_type": "code",
   "execution_count": null,
   "metadata": {},
   "outputs": [],
   "source": [
    "chorley = pd.read_csv('data/2011-2020_Chorley_store.csv')\n",
    "chorley['branch_name'] = 'Chorley store'\n",
    "chorley = chorley.rename(\n",
    "    columns={'product': 'item', 'total_quantity_purchased': 'quantity'})\n",
    "chorley = chorley.merge(branch_list, on='branch_name', how='left')\n",
    "#chorley\n",
    "castle.to_csv('castle_clean.csv')\n"
   ]
  },
  {
   "cell_type": "code",
   "execution_count": null,
   "metadata": {},
   "outputs": [],
   "source": [
    "fareham = pd.read_csv('data/2011-2020_Fareham_outlet.csv')\n",
    "fareham['branch_name'] = 'Fareham outlet'\n",
    "fareham = fareham.rename(\n",
    "    columns={'sku': 'item', 'quantity_purchased': 'quantity'})\n",
    "fareham = fareham.merge(branch_list, on='branch_name', how='left')\n",
    "#fareham\n",
    "castle.to_csv('castle_clean.csv')\n"
   ]
  },
  {
   "cell_type": "code",
   "execution_count": null,
   "metadata": {},
   "outputs": [],
   "source": [
    "harrow = pd.read_csv('data/2011-2020_Harrow_outlet.csv')\n",
    "harrow['branch_name'] = 'Harrow outlet'\n",
    "harrow = harrow.rename(columns={'total_quantity': 'quantity'})\n",
    "harrow = harrow.merge(branch_list, on='branch_name', how='left')\n",
    "#harrow\n",
    "harrow.to_csv('harrow_clean.csv')\n"
   ]
  },
  {
   "cell_type": "code",
   "execution_count": null,
   "metadata": {},
   "outputs": [],
   "source": [
    "iow = pd.read_csv('data/2011-2020_Isle_of_Wight_store.csv')\n",
    "iow['branch_name'] = 'Isle of Wight store'\n",
    "iow = iow.rename(columns={'total_quantity_purchased': 'quantity'})\n",
    "iow = iow.merge(branch_list, on='branch_name', how='left')\n",
    "#iow\n",
    "castle.to_csv('castle_clean.csv')\n"
   ]
  },
  {
   "cell_type": "code",
   "execution_count": null,
   "metadata": {},
   "outputs": [],
   "source": [
    "norfolk = pd.read_csv('data/2011-2020_Norfolk_outlet.csv')\n",
    "norfolk['branch_name'] = 'Norfolk outlet'\n",
    "norfolk = norfolk.rename(columns={'total_quantity': 'quantity'})\n",
    "norfolk = norfolk.merge(branch_list, on='branch_name', how='left')\n",
    "#norfolk\n",
    "castle.to_csv('castle_clean.csv')\n"
   ]
  },
  {
   "cell_type": "code",
   "execution_count": null,
   "metadata": {},
   "outputs": [],
   "source": [
    "northyorks = pd.read_csv('data/2011-2020_North_Yorkshire_outlet.csv')\n",
    "northyorks['branch_name'] = 'North Yorkshire outlet'\n",
    "northyorks = northyorks.rename(\n",
    "    columns={'sku': 'item', 'total_quantity': 'quantity'})\n",
    "northyorks = northyorks.merge(branch_list, on='branch_name', how='left')\n",
    "#northyorks\n",
    "castle.to_csv('castle_clean.csv')\n"
   ]
  },
  {
   "cell_type": "code",
   "execution_count": null,
   "metadata": {},
   "outputs": [],
   "source": [
    "notts = pd.read_csv('data/2011-2020_Nottinghamshire_store.csv')\n",
    "notts['branch_name'] = 'Nottinghamshire store'\n",
    "notts = notts.merge(branch_list, on='branch_name', how='left')\n",
    "#notts\n",
    "castle.to_csv('castle_clean.csv')\n"
   ]
  },
  {
   "cell_type": "code",
   "execution_count": null,
   "metadata": {},
   "outputs": [],
   "source": [
    "powys = pd.read_csv('data/2011-2020_Powys_outlet.csv')\n",
    "powys['branch_name'] = 'Powys outlet'\n",
    "powys = powys.rename(columns={'product': 'item', 'total_quantity': 'quantity'})\n",
    "powys = powys.merge(branch_list, on='branch_name', how='left')\n",
    "#powys\n",
    "castle.to_csv('castle_clean.csv')\n"
   ]
  },
  {
   "cell_type": "code",
   "execution_count": null,
   "metadata": {},
   "outputs": [],
   "source": [
    "rhoose = pd.read_csv('data/2011-2020_Rhoose_branch.csv')\n",
    "rhoose['branch_name'] = 'Rhoose branch'\n",
    "rhoose = rhoose.rename(\n",
    "    columns={'product': 'item', 'quantity_purchased': 'quantity'})\n",
    "rhoose = rhoose.merge(branch_list, on='branch_name', how='left')\n",
    "#rhoose\n",
    "castle.to_csv('castle_clean.csv')\n"
   ]
  },
  {
   "cell_type": "code",
   "execution_count": null,
   "metadata": {},
   "outputs": [],
   "source": [
    "armagh = pd.read_csv('data/2012-2020_Armagh_outlet.csv')\n",
    "armagh['branch_name'] = 'Armagh outlet'\n",
    "armagh = armagh.rename(columns={'product': 'item'})\n",
    "armagh = armagh.merge(branch_list, on='branch_name', how='left')\n",
    "#armagh\n",
    "armagh.to_csv('armagh_clean.csv')\n"
   ]
  },
  {
   "cell_type": "code",
   "execution_count": null,
   "metadata": {},
   "outputs": [],
   "source": [
    "ballymoney = pd.read_csv('data/2012-2020_Ballymoney_store.csv')\n",
    "ballymoney['branch_name'] = 'Ballymoney store'\n",
    "ballymoney = ballymoney.rename(\n",
    "    columns={'sku': 'item', 'total_quantity_purchased': 'quantity'})\n",
    "ballymoney = ballymoney.merge(branch_list, on='branch_name', how='left')\n",
    "#ballymoney\n",
    "ballymoney.to_csv('ballymoney_clean.csv')\n"
   ]
  },
  {
   "cell_type": "code",
   "execution_count": null,
   "metadata": {},
   "outputs": [],
   "source": [
    "darlington = pd.read_csv('data/2012-2020_Darlington_store.csv', low_memory=False)\n",
    "darlington['branch_name'] = 'Darlington store'\n",
    "darlington = darlington.rename(\n",
    "    columns={'sku': 'item', 'total_quantity': 'quantity'})\n",
    "darlington = darlington.merge(branch_list, on='branch_name', how='left')\n",
    "#darlington\n",
    "castle.to_csv('castle_clean.csv')\n"
   ]
  },
  {
   "cell_type": "code",
   "execution_count": null,
   "metadata": {},
   "outputs": [],
   "source": [
    "glasgow = pd.read_csv('data/2012-2020_Glasgow_City_outlet.csv')\n",
    "glasgow['branch_name'] = 'Glasgow City outlet'\n",
    "glasgow = glasgow.rename(\n",
    "    columns={'product': 'item', 'total_quantity_purchased': 'quantity'})\n",
    "glasgow = glasgow.merge(branch_list, on='branch_name', how='left')\n",
    "#glasgow\n",
    "castle.to_csv('castle_clean.csv')\n"
   ]
  },
  {
   "cell_type": "code",
   "execution_count": null,
   "metadata": {},
   "outputs": [],
   "source": [
    "hackney = pd.read_csv('data/2012-2020_Hackney_store.csv')\n",
    "hackney['branch_name'] = 'Hackney store'\n",
    "hackney = hackney.rename(columns={'total_quantity_purchased': 'quantity'})\n",
    "hackney = hackney.merge(branch_list, on='branch_name', how='left')\n",
    "#hackney\n",
    "castle.to_csv('castle_clean.csv')\n"
   ]
  },
  {
   "cell_type": "code",
   "execution_count": null,
   "metadata": {},
   "outputs": [],
   "source": [
    "reigate = pd.read_csv('data/2012-2020_Reigate_and_Banstead_branch.csv')\n",
    "reigate['branch_name'] = 'Reigate and Banstead branch'\n",
    "reigate = reigate.merge(branch_list, on='branch_name', how='left')\n",
    "#reigate\n",
    "castle.to_csv('castle_clean.csv')\n"
   ]
  },
  {
   "cell_type": "code",
   "execution_count": null,
   "metadata": {},
   "outputs": [],
   "source": [
    "rushcliffe = pd.read_csv('data/2012-2020_Rushcliffe_branch.csv')\n",
    "rushcliffe['branch_name'] = 'Rushcliffe branch'\n",
    "rushcliffe = rushcliffe.merge(branch_list, on='branch_name', how='left')\n",
    "#rushcliffe\n",
    "castle.to_csv('castle_clean.csv')\n"
   ]
  },
  {
   "cell_type": "code",
   "execution_count": null,
   "metadata": {},
   "outputs": [],
   "source": [
    "sevenoaks = pd.read_csv('data/2012-2020_Sevenoaks_branch.csv')\n",
    "sevenoaks['branch_name'] = 'Sevenoaks branch'\n",
    "sevenoaks = sevenoaks.rename(columns={'product': 'item'})\n",
    "sevenoaks = sevenoaks.merge(branch_list, on='branch_name', how='left')\n",
    "#sevenoaks\n",
    "castle.to_csv('castle_clean.csv')\n"
   ]
  },
  {
   "cell_type": "code",
   "execution_count": null,
   "metadata": {},
   "outputs": [],
   "source": [
    "shepway = pd.read_csv('data/2012-2020_Shepway_store.csv', low_memory=False)\n",
    "shepway['branch_name'] = 'Shepway store'\n",
    "shepway = shepway.rename(columns={'total_quantity': 'quantity'})\n",
    "shepway = shepway.merge(branch_list, on='branch_name', how='left')\n",
    "#shepway\n",
    "castle.to_csv('castle_clean.csv')\n"
   ]
  },
  {
   "cell_type": "code",
   "execution_count": null,
   "metadata": {},
   "outputs": [],
   "source": [
    "stockton = pd.read_csv('data/2012-2020_Stockton-on-Tees_store.csv')\n",
    "stockton['branch_name'] = 'Stockton-on-Tees store'\n",
    "stockton = stockton.rename(columns={'total_quantity': 'quantity'})\n",
    "stockton = stockton.merge(branch_list, on='branch_name', how='left')\n",
    "#stockton\n",
    "castle.to_csv('castle_clean.csv')\n"
   ]
  },
  {
   "cell_type": "code",
   "execution_count": null,
   "metadata": {},
   "outputs": [],
   "source": [
    "westoxford = pd.read_csv('data/2012-2020_West_Oxfordshire_outlet.csv')\n",
    "westoxford['branch_name'] = 'West Oxfordshire outlet'\n",
    "westoxford = westoxford.merge(branch_list, on='branch_name', how='left')\n",
    "#westoxford\n",
    "castle.to_csv('castle_clean.csv')\n"
   ]
  },
  {
   "cell_type": "code",
   "execution_count": null,
   "metadata": {},
   "outputs": [],
   "source": [
    "worcester = pd.read_csv('data/2012-2020_Worcestershire_branch.csv')\n",
    "worcester['branch_name'] = 'Worcestershire branch'\n",
    "worcester = worcester.rename(\n",
    "    columns={'sku': 'item', 'total_quantity': 'quantity'})\n",
    "worcester = worcester.merge(branch_list, on='branch_name', how='left')\n",
    "#worcester\n",
    "castle.to_csv('castle_clean.csv')\n"
   ]
  },
  {
   "cell_type": "code",
   "execution_count": null,
   "metadata": {},
   "outputs": [],
   "source": [
    "bassetlaw2013 = pd.read_csv('data/2013_Bassetlaw_outlet.csv')\n",
    "bassetlaw2013['branch_name'] = 'Bassetlaw outlet'\n",
    "bassetlaw2013 = bassetlaw2013.rename(columns={'product': 'item'})\n",
    "bassetlaw2013 = bassetlaw2013.merge(branch_list, on='branch_name', how='left')\n",
    "#bassetlaw2013\n"
   ]
  },
  {
   "cell_type": "code",
   "execution_count": null,
   "metadata": {},
   "outputs": [],
   "source": [
    "'''allcsv = [bassetlaw, castle, cheshireeast, eastcambridge, eastdevon,eastsussex,flintshire,forstofdean,fylde,lichfield,lincoln,molevalley,orkney,staffs,\n",
    "stoke,swansea,warwick,wyre,belfast,bracknell,chorley,fareham,harrow,iow,norfolk,northyorks,notts,powys,rhoose,armagh,ballymoney,darlington,glasgow,\n",
    "hackney,reigate,rushcliffe,sevenoaks,shepway,stockton,westoxford,worcester,bassetlaw2013]\n",
    "mastercsv = pd.concat(allcsv, keys=['bass','cast','ches','ecam', 'edev','esus', 'flin','fode','fyld','lich','linc','mole', 'orkn','staf','stok'\n",
    " 'swan','warw','wyre','belf','brck','chor', 'fare' , 'harr','isow','norf','nyrk','nott','powy','rhoo','arma','ball','darl','glas',\n",
    " 'hack','reig','rush','seve','shep','stoc','woxf','worc','ba13'])'''"
   ]
  },
  {
   "cell_type": "code",
   "execution_count": null,
   "metadata": {},
   "outputs": [],
   "source": [
    "larne = pd.read_json('data/2010-2020_Larne_store.json')\n",
    "larne['branch_name'] = 'Larne store'\n",
    "larne = larne.merge(branch_list, on='branch_name', how='left')\n",
    "#larne\n",
    "larne.to_csv('larne_clean.csv')\n"
   ]
  },
  {
   "cell_type": "code",
   "execution_count": null,
   "metadata": {},
   "outputs": [],
   "source": [
    "branches_table4 = etl.fromdataframe(branch_list)\n",
    "branches_in_nireland = etl.select(\n",
    "    branches_table4, 'region', lambda region: region == 'Northern Ireland')\n",
    "branches_in_nireland.lookall()\n"
   ]
  },
  {
   "cell_type": "code",
   "execution_count": null,
   "metadata": {},
   "outputs": [],
   "source": [
    "branches4 = branches_in_nireland['branch_name']\n",
    "region_data = []\n",
    "for branch in branches4:\n",
    "    print(branch)\n",
    "    cleaned_file_name = branch.lower().split(' ')[0] + '_clean.csv'\n",
    "    print(cleaned_file_name, '\\n\\n')\n",
    "    try:\n",
    "        branch_df = pd.read_csv(cleaned_file_name)\n",
    "        region_data.append(branch_df)\n",
    "    except:\n",
    "        pass\n",
    "\n",
    "all_branch_data = pd.concat(region_data)\n",
    "all_branch_data.to_csv('nireland.csv')\n"
   ]
  }
 ],
 "metadata": {
  "interpreter": {
   "hash": "31f2aee4e71d21fbe5cf8b01ff0e069b9275f58929596ceb00d14d90e3e16cd6"
  },
  "kernelspec": {
   "display_name": "Python 3.8.10 64-bit",
   "language": "python",
   "name": "python3"
  },
  "language_info": {
   "codemirror_mode": {
    "name": "ipython",
    "version": 3
   },
   "file_extension": ".py",
   "mimetype": "text/x-python",
   "name": "python",
   "nbconvert_exporter": "python",
   "pygments_lexer": "ipython3",
   "version": "3.8.10"
  },
  "orig_nbformat": 4
 },
 "nbformat": 4,
 "nbformat_minor": 2
}
