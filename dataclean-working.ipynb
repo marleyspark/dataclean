{
 "cells": [
  {
   "cell_type": "code",
   "execution_count": null,
   "metadata": {},
   "outputs": [],
   "source": [
    "print('testing')\n",
    "#this is just to test kernel"
   ]
  },
  {
   "cell_type": "code",
   "execution_count": null,
   "metadata": {},
   "outputs": [],
   "source": [
    "import numpy as np\n",
    "import pandas as pd\n",
    "import petl as etl\n",
    "\n",
    "\n",
    "#imports "
   ]
  },
  {
   "cell_type": "code",
   "execution_count": null,
   "metadata": {},
   "outputs": [],
   "source": [
    "branch_list = pd.read_excel('data/branch_list.xlsx')\n",
    "branch_list\n",
    "\n",
    "#import branch list"
   ]
  },
  {
   "cell_type": "code",
   "execution_count": null,
   "metadata": {},
   "outputs": [],
   "source": [
    "branches_table = etl.fromdataframe(branch_list)\n",
    "branches_in_eastmidlands = etl.select(\n",
    "    branches_table, 'region', lambda region: region == 'East Midlands')\n",
    "branches_in_eastmidlands.lookall()\n",
    "\n",
    "#creates a table of branchs based on region"
   ]
  },
  {
   "cell_type": "code",
   "execution_count": null,
   "metadata": {},
   "outputs": [],
   "source": [
    "branches = branches_in_eastmidlands['branch_name']\n",
    "region_data = []\n",
    "for branch in branches:\n",
    "    print(branch)\n",
    "    cleaned_file_name = branch.lower().split(' ')[0] + '_clean.csv'\n",
    "    print(cleaned_file_name, '\\n\\n')\n",
    "    try:\n",
    "        branch_df = pd.read_csv(cleaned_file_name)\n",
    "        region_data.append(branch_df)\n",
    "    except:\n",
    "        pass\n",
    "\n",
    "all_branch_data = pd.concat(region_data)\n",
    "all_branch_data.to_csv('partial_east.csv')\n",
    "\n",
    "#creates a clean version of file, dataframe you created from the region is variable here. "
   ]
  },
  {
   "cell_type": "code",
   "execution_count": null,
   "metadata": {},
   "outputs": [],
   "source": [
    "####creating branch expenses####"
   ]
  },
  {
   "cell_type": "code",
   "execution_count": null,
   "metadata": {},
   "outputs": [],
   "source": [
    "branchdata = pd.read_excel('data/branch_expenses.xlsx')\n",
    "#reading branch expenses "
   ]
  },
  {
   "cell_type": "code",
   "execution_count": null,
   "metadata": {},
   "outputs": [],
   "source": [
    "grouped_branch = branchdata.groupby(['branch_name'],\n",
    "                                    as_index=False).sum().sort_values(\n",
    "    by='branch_name',\n",
    "    ascending=True).head(10)\n",
    "#grouping branch"
   ]
  },
  {
   "cell_type": "code",
   "execution_count": null,
   "metadata": {},
   "outputs": [],
   "source": [
    "grouped_branch = branchdata[\n",
    "    '(operational_cost + staff_bonuses + misc_expenses + waste_cost)'] = branchdata.sum(\n",
    "        axis=1)\n",
    "\n",
    "#makes column total"
   ]
  },
  {
   "cell_type": "code",
   "execution_count": null,
   "metadata": {},
   "outputs": [],
   "source": [
    "grouped_total = my_df['amount_in_gbp'] = my_df.sum(axis=1)\n",
    "\n",
    "#read from clean file, my_df here is variable\n"
   ]
  },
  {
   "cell_type": "code",
   "execution_count": null,
   "metadata": {},
   "outputs": [],
   "source": [
    "grouped_total = my_df.groupby(['branch_name'], as_index=False).sum().sort_values(by='branch_name',\n",
    "                                                                                 ascending=True).head(10)\n",
    "#groups total "
   ]
  },
  {
   "cell_type": "code",
   "execution_count": null,
   "metadata": {},
   "outputs": [],
   "source": [
    "table_join = pd.merge(grouped_branch, grouped_total,\n",
    "                      how='left', on=['branch_name'])\n",
    "\n",
    "#merges tables together"
   ]
  }
 ],
 "metadata": {
  "interpreter": {
   "hash": "31f2aee4e71d21fbe5cf8b01ff0e069b9275f58929596ceb00d14d90e3e16cd6"
  },
  "kernelspec": {
   "display_name": "Python 3.8.10 64-bit",
   "language": "python",
   "name": "python3"
  },
  "language_info": {
   "name": "python",
   "version": "3.8.10"
  },
  "orig_nbformat": 4
 },
 "nbformat": 4,
 "nbformat_minor": 2
}
